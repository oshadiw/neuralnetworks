{
 "cells": [
  {
   "cell_type": "code",
   "execution_count": 1,
   "metadata": {},
   "outputs": [],
   "source": [
    "# Import our dependencies\n",
    "import pandas as pd\n",
    "import matplotlib as plt\n",
    "from sklearn.datasets import make_blobs\n",
    "import sklearn as skl\n",
    "import tensorflow as tf"
   ]
  },
  {
   "cell_type": "code",
   "execution_count": 2,
   "metadata": {},
   "outputs": [
    {
     "data": {
      "text/plain": [
       "<matplotlib.axes._subplots.AxesSubplot at 0x7fb379769690>"
      ]
     },
     "execution_count": 2,
     "metadata": {},
     "output_type": "execute_result"
    },
    {
     "data": {
      "image/png": "[encoded data removed]",
      "text/plain": [
       "<Figure size 432x288 with 2 Axes>"
      ]
     },
     "metadata": {
      "needs_background": "light"
     },
     "output_type": "display_data"
    }
   ],
   "source": [
    "# Generate dummy dataset\n",
    "X, y = make_blobs(n_samples=1000, centers=2, n_features=2, random_state=78)\n",
    "\n",
    "# Creating a DataFrame with the dummy data\n",
    "df = pd.DataFrame(X, columns=[\"Feature 1\", \"Feature 2\"])\n",
    "df[\"Target\"] = y\n",
    "\n",
    "# Plotting the dummy data\n",
    "df.plot.scatter(x=\"Feature 1\", y=\"Feature 2\", c=\"Target\", colormap=\"winter\")"
   ]
  },
  {
   "cell_type": "code",
   "execution_count": 3,
   "metadata": {},
   "outputs": [],
   "source": [
    "# Use sklearn to split dataset\n",
    "from sklearn.model_selection import train_test_split\n",
    "X_train, X_test, y_train, y_test = train_test_split(X, y, random_state=78)"
   ]
  },
  {
   "cell_type": "code",
   "execution_count": 4,
   "metadata": {},
   "outputs": [],
   "source": [
    "# Create scaler instance\n",
    "X_scaler = skl.preprocessing.StandardScaler()\n",
    "\n",
    "# Fit the scaler\n",
    "X_scaler.fit(X_train)\n",
    "\n",
    "# Scale the data\n",
    "X_train_scaled = X_scaler.transform(X_train)\n",
    "X_test_scaled = X_scaler.transform(X_test)"
   ]
  },
  {
   "cell_type": "code",
   "execution_count": 5,
   "metadata": {},
   "outputs": [],
   "source": [
    "# Create the Keras Sequential model\n",
    "nn_model = tf.keras.models.Sequential()"
   ]
  },
  {
   "cell_type": "code",
   "execution_count": 6,
   "metadata": {},
   "outputs": [],
   "source": [
    "# Add our first Dense layer, including the input layer\n",
    "nn_model.add(tf.keras.layers.Dense(units=1, activation=\"relu\", input_dim=2))"
   ]
  },
  {
   "cell_type": "code",
   "execution_count": 7,
   "metadata": {},
   "outputs": [],
   "source": [
    "# Add the output layer that uses a probability activation function\n",
    "nn_model.add(tf.keras.layers.Dense(units=1, activation=\"sigmoid\"))"
   ]
  },
  {
   "cell_type": "code",
   "execution_count": 8,
   "metadata": {},
   "outputs": [
    {
     "name": "stdout",
     "output_type": "stream",
     "text": [
      "Model: \"sequential\"\n",
      "_________________________________________________________________\n",
      "Layer (type)                 Output Shape              Param #   \n",
      "=================================================================\n",
      "dense (Dense)                (None, 1)                 3         \n",
      "_________________________________________________________________\n",
      "dense_1 (Dense)              (None, 1)                 2         \n",
      "=================================================================\n",
      "Total params: 5\n",
      "Trainable params: 5\n",
      "Non-trainable params: 0\n",
      "_________________________________________________________________\n"
     ]
    }
   ],
   "source": [
    "# Check the structure of the Sequential model\n",
    "nn_model.summary()"
   ]
  },
  {
   "cell_type": "code",
   "execution_count": 9,
   "metadata": {},
   "outputs": [],
   "source": [
    "# Compile the Sequential model together and customize metrics\n",
    "nn_model.compile(loss=\"binary_crossentropy\", optimizer=\"adam\", metrics=[\"accuracy\"])"
   ]
  },
  {
   "cell_type": "code",
   "execution_count": 10,
   "metadata": {},
   "outputs": [
    {
     "name": "stdout",
     "output_type": "stream",
     "text": [
      "Train on 750 samples\n",
      "Epoch 1/100\n",
      "750/750 [==============================] - 1s 2ms/sample - loss: 0.6922 - accuracy: 0.5333\n",
      "Epoch 2/100\n",
      "750/750 [==============================] - 0s 111us/sample - loss: 0.6816 - accuracy: 0.5600\n",
      "Epoch 3/100\n",
      "750/750 [==============================] - 0s 105us/sample - loss: 0.6723 - accuracy: 0.5907\n",
      "Epoch 4/100\n",
      "750/750 [==============================] - 0s 109us/sample - loss: 0.6640 - accuracy: 0.6027\n",
      "Epoch 5/100\n",
      "750/750 [==============================] - 0s 110us/sample - loss: 0.6561 - accuracy: 0.6187\n",
      "Epoch 6/100\n",
      "750/750 [==============================] - 0s 94us/sample - loss: 0.6473 - accuracy: 0.6373\n",
      "Epoch 7/100\n",
      "750/750 [==============================] - 0s 99us/sample - loss: 0.6380 - accuracy: 0.6840\n",
      "Epoch 8/100\n",
      "750/750 [==============================] - 0s 105us/sample - loss: 0.6278 - accuracy: 0.7120\n",
      "Epoch 9/100\n",
      "750/750 [==============================] - 0s 93us/sample - loss: 0.6166 - accuracy: 0.7333\n",
      "Epoch 10/100\n",
      "750/750 [==============================] - 0s 86us/sample - loss: 0.6046 - accuracy: 0.7600\n",
      "Epoch 11/100\n",
      "750/750 [==============================] - 0s 89us/sample - loss: 0.5917 - accuracy: 0.7773\n",
      "Epoch 12/100\n",
      "750/750 [==============================] - 0s 84us/sample - loss: 0.5775 - accuracy: 0.8040\n",
      "Epoch 13/100\n",
      "750/750 [==============================] - 0s 106us/sample - loss: 0.5620 - accuracy: 0.8267\n",
      "Epoch 14/100\n",
      "750/750 [==============================] - 0s 95us/sample - loss: 0.5438 - accuracy: 0.8520\n",
      "Epoch 15/100\n",
      "750/750 [==============================] - 0s 90us/sample - loss: 0.5243 - accuracy: 0.8867\n",
      "Epoch 16/100\n",
      "750/750 [==============================] - 0s 91us/sample - loss: 0.5038 - accuracy: 0.9160\n",
      "Epoch 17/100\n",
      "750/750 [==============================] - 0s 93us/sample - loss: 0.4832 - accuracy: 0.9400\n",
      "Epoch 18/100\n",
      "750/750 [==============================] - 0s 91us/sample - loss: 0.4626 - accuracy: 0.9533\n",
      "Epoch 19/100\n",
      "750/750 [==============================] - 0s 89us/sample - loss: 0.4428 - accuracy: 0.9667\n",
      "Epoch 20/100\n",
      "750/750 [==============================] - 0s 88us/sample - loss: 0.4237 - accuracy: 0.9720\n",
      "Epoch 21/100\n",
      "750/750 [==============================] - 0s 87us/sample - loss: 0.4058 - accuracy: 0.9800\n",
      "Epoch 22/100\n",
      "750/750 [==============================] - 0s 87us/sample - loss: 0.3890 - accuracy: 0.9840\n",
      "Epoch 23/100\n",
      "750/750 [==============================] - 0s 88us/sample - loss: 0.3734 - accuracy: 0.9880\n",
      "Epoch 24/100\n",
      "750/750 [==============================] - 0s 89us/sample - loss: 0.3588 - accuracy: 0.9920\n",
      "Epoch 25/100\n",
      "750/750 [==============================] - 0s 86us/sample - loss: 0.3450 - accuracy: 0.9920\n",
      "Epoch 26/100\n",
      "750/750 [==============================] - 0s 89us/sample - loss: 0.3320 - accuracy: 0.9947\n",
      "Epoch 27/100\n",
      "750/750 [==============================] - 0s 87us/sample - loss: 0.3199 - accuracy: 0.9960\n",
      "Epoch 28/100\n",
      "750/750 [==============================] - 0s 94us/sample - loss: 0.3085 - accuracy: 1.0000\n",
      "Epoch 29/100\n",
      "750/750 [==============================] - 0s 97us/sample - loss: 0.2979 - accuracy: 1.0000\n",
      "Epoch 30/100\n",
      "750/750 [==============================] - 0s 90us/sample - loss: 0.2879 - accuracy: 1.0000\n",
      "Epoch 31/100\n",
      "750/750 [==============================] - 0s 89us/sample - loss: 0.2785 - accuracy: 1.0000\n",
      "Epoch 32/100\n",
      "750/750 [==============================] - 0s 94us/sample - loss: 0.2697 - accuracy: 1.0000\n",
      "Epoch 33/100\n",
      "750/750 [==============================] - 0s 111us/sample - loss: 0.2614 - accuracy: 1.0000\n",
      "Epoch 34/100\n",
      "750/750 [==============================] - 0s 122us/sample - loss: 0.2535 - accuracy: 1.0000\n",
      "Epoch 35/100\n",
      "750/750 [==============================] - 0s 90us/sample - loss: 0.2461 - accuracy: 1.0000\n",
      "Epoch 36/100\n",
      "750/750 [==============================] - 0s 105us/sample - loss: 0.2391 - accuracy: 1.0000\n",
      "Epoch 37/100\n",
      "750/750 [==============================] - 0s 108us/sample - loss: 0.2324 - accuracy: 1.0000\n",
      "Epoch 38/100\n",
      "750/750 [==============================] - 0s 110us/sample - loss: 0.2261 - accuracy: 1.0000\n",
      "Epoch 39/100\n",
      "750/750 [==============================] - 0s 136us/sample - loss: 0.2201 - accuracy: 1.0000\n",
      "Epoch 40/100\n",
      "750/750 [==============================] - 0s 114us/sample - loss: 0.2144 - accuracy: 1.0000\n",
      "Epoch 41/100\n",
      "750/750 [==============================] - 0s 109us/sample - loss: 0.2090 - accuracy: 1.0000\n",
      "Epoch 42/100\n",
      "750/750 [==============================] - 0s 116us/sample - loss: 0.2038 - accuracy: 1.0000\n",
      "Epoch 43/100\n",
      "750/750 [==============================] - 0s 121us/sample - loss: 0.1987 - accuracy: 1.0000\n",
      "Epoch 44/100\n",
      "750/750 [==============================] - 0s 103us/sample - loss: 0.1939 - accuracy: 1.0000\n",
      "Epoch 45/100\n",
      "750/750 [==============================] - 0s 99us/sample - loss: 0.1894 - accuracy: 1.0000\n",
      "Epoch 46/100\n",
      "750/750 [==============================] - 0s 92us/sample - loss: 0.1849 - accuracy: 1.0000\n",
      "Epoch 47/100\n",
      "750/750 [==============================] - 0s 147us/sample - loss: 0.1806 - accuracy: 1.0000\n",
      "Epoch 48/100\n",
      "750/750 [==============================] - 0s 91us/sample - loss: 0.1765 - accuracy: 1.0000\n",
      "Epoch 49/100\n",
      "750/750 [==============================] - 0s 85us/sample - loss: 0.1725 - accuracy: 1.0000\n",
      "Epoch 50/100\n",
      "750/750 [==============================] - 0s 85us/sample - loss: 0.1688 - accuracy: 1.0000\n",
      "Epoch 51/100\n",
      "750/750 [==============================] - 0s 95us/sample - loss: 0.1651 - accuracy: 1.0000\n",
      "Epoch 52/100\n",
      "750/750 [==============================] - 0s 88us/sample - loss: 0.1615 - accuracy: 1.0000\n",
      "Epoch 53/100\n",
      "750/750 [==============================] - 0s 101us/sample - loss: 0.1582 - accuracy: 1.0000\n",
      "Epoch 54/100\n",
      "750/750 [==============================] - 0s 105us/sample - loss: 0.1548 - accuracy: 1.0000\n",
      "Epoch 55/100\n",
      "750/750 [==============================] - 0s 100us/sample - loss: 0.1516 - accuracy: 1.0000\n",
      "Epoch 56/100\n",
      "750/750 [==============================] - 0s 125us/sample - loss: 0.1486 - accuracy: 1.0000\n",
      "Epoch 57/100\n",
      "750/750 [==============================] - 0s 82us/sample - loss: 0.1456 - accuracy: 1.0000\n",
      "Epoch 58/100\n",
      "750/750 [==============================] - 0s 82us/sample - loss: 0.1427 - accuracy: 1.0000\n",
      "Epoch 59/100\n",
      "750/750 [==============================] - 0s 81us/sample - loss: 0.1398 - accuracy: 1.0000\n",
      "Epoch 60/100\n",
      "750/750 [==============================] - 0s 84us/sample - loss: 0.1371 - accuracy: 1.0000\n",
      "Epoch 61/100\n",
      "750/750 [==============================] - 0s 84us/sample - loss: 0.1345 - accuracy: 1.0000\n",
      "Epoch 62/100\n",
      "750/750 [==============================] - 0s 83us/sample - loss: 0.1319 - accuracy: 1.0000\n",
      "Epoch 63/100\n",
      "750/750 [==============================] - 0s 86us/sample - loss: 0.1294 - accuracy: 1.0000\n",
      "Epoch 64/100\n",
      "750/750 [==============================] - 0s 73us/sample - loss: 0.1270 - accuracy: 1.0000\n",
      "Epoch 65/100\n",
      "750/750 [==============================] - 0s 82us/sample - loss: 0.1246 - accuracy: 1.0000\n",
      "Epoch 66/100\n",
      "750/750 [==============================] - 0s 127us/sample - loss: 0.1223 - accuracy: 1.0000\n",
      "Epoch 67/100\n",
      "750/750 [==============================] - 0s 89us/sample - loss: 0.1200 - accuracy: 1.0000\n",
      "Epoch 68/100\n",
      "750/750 [==============================] - 0s 89us/sample - loss: 0.1179 - accuracy: 1.0000\n",
      "Epoch 69/100\n",
      "750/750 [==============================] - 0s 98us/sample - loss: 0.1157 - accuracy: 1.0000\n",
      "Epoch 70/100\n",
      "750/750 [==============================] - 0s 113us/sample - loss: 0.1137 - accuracy: 1.0000\n",
      "Epoch 71/100\n",
      "750/750 [==============================] - 0s 120us/sample - loss: 0.1117 - accuracy: 1.0000\n",
      "Epoch 72/100\n",
      "750/750 [==============================] - 0s 121us/sample - loss: 0.1097 - accuracy: 1.0000\n",
      "Epoch 73/100\n",
      "750/750 [==============================] - 0s 111us/sample - loss: 0.1078 - accuracy: 1.0000\n",
      "Epoch 74/100\n",
      "750/750 [==============================] - 0s 108us/sample - loss: 0.1060 - accuracy: 1.0000\n",
      "Epoch 75/100\n",
      "750/750 [==============================] - 0s 95us/sample - loss: 0.1042 - accuracy: 1.0000\n",
      "Epoch 76/100\n",
      "750/750 [==============================] - 0s 96us/sample - loss: 0.1024 - accuracy: 1.0000\n",
      "Epoch 77/100\n",
      "750/750 [==============================] - 0s 99us/sample - loss: 0.1007 - accuracy: 1.0000\n",
      "Epoch 78/100\n"
     ]
    },
    {
     "name": "stdout",
     "output_type": "stream",
     "text": [
      "750/750 [==============================] - 0s 117us/sample - loss: 0.0990 - accuracy: 1.0000\n",
      "Epoch 79/100\n",
      "750/750 [==============================] - 0s 108us/sample - loss: 0.0973 - accuracy: 1.0000\n",
      "Epoch 80/100\n",
      "750/750 [==============================] - 0s 109us/sample - loss: 0.0957 - accuracy: 1.0000\n",
      "Epoch 81/100\n",
      "750/750 [==============================] - 0s 112us/sample - loss: 0.0942 - accuracy: 1.0000\n",
      "Epoch 82/100\n",
      "750/750 [==============================] - 0s 127us/sample - loss: 0.0926 - accuracy: 1.0000\n",
      "Epoch 83/100\n",
      "750/750 [==============================] - 0s 119us/sample - loss: 0.0911 - accuracy: 1.0000\n",
      "Epoch 84/100\n",
      "750/750 [==============================] - 0s 92us/sample - loss: 0.0897 - accuracy: 1.0000\n",
      "Epoch 85/100\n",
      "750/750 [==============================] - 0s 90us/sample - loss: 0.0882 - accuracy: 1.0000\n",
      "Epoch 86/100\n",
      "750/750 [==============================] - 0s 81us/sample - loss: 0.0868 - accuracy: 1.0000\n",
      "Epoch 87/100\n",
      "750/750 [==============================] - 0s 84us/sample - loss: 0.0855 - accuracy: 1.0000\n",
      "Epoch 88/100\n",
      "750/750 [==============================] - 0s 81us/sample - loss: 0.0841 - accuracy: 1.0000\n",
      "Epoch 89/100\n",
      "750/750 [==============================] - 0s 83us/sample - loss: 0.0828 - accuracy: 1.0000\n",
      "Epoch 90/100\n",
      "750/750 [==============================] - 0s 74us/sample - loss: 0.0815 - accuracy: 1.0000\n",
      "Epoch 91/100\n",
      "750/750 [==============================] - 0s 85us/sample - loss: 0.0803 - accuracy: 1.0000\n",
      "Epoch 92/100\n",
      "750/750 [==============================] - 0s 91us/sample - loss: 0.0790 - accuracy: 1.0000\n",
      "Epoch 93/100\n",
      "750/750 [==============================] - 0s 98us/sample - loss: 0.0778 - accuracy: 1.0000\n",
      "Epoch 94/100\n",
      "750/750 [==============================] - 0s 93us/sample - loss: 0.0767 - accuracy: 1.0000\n",
      "Epoch 95/100\n",
      "750/750 [==============================] - 0s 91us/sample - loss: 0.0755 - accuracy: 1.0000\n",
      "Epoch 96/100\n",
      "750/750 [==============================] - 0s 87us/sample - loss: 0.0744 - accuracy: 1.0000\n",
      "Epoch 97/100\n",
      "750/750 [==============================] - 0s 87us/sample - loss: 0.0733 - accuracy: 1.0000\n",
      "Epoch 98/100\n",
      "750/750 [==============================] - 0s 91us/sample - loss: 0.0722 - accuracy: 1.0000\n",
      "Epoch 99/100\n",
      "750/750 [==============================] - 0s 96us/sample - loss: 0.0711 - accuracy: 1.0000\n",
      "Epoch 100/100\n",
      "750/750 [==============================] - 0s 89us/sample - loss: 0.0701 - accuracy: 1.0000\n"
     ]
    }
   ],
   "source": [
    "# Fit the model to the training data\n",
    "fit_model = nn_model.fit(X_train_scaled, y_train, epochs=100)"
   ]
  },
  {
   "cell_type": "code",
   "execution_count": 11,
   "metadata": {},
   "outputs": [
    {
     "data": {
      "text/plain": [
       "<matplotlib.axes._subplots.AxesSubplot at 0x7fb37b336450>"
      ]
     },
     "execution_count": 11,
     "metadata": {},
     "output_type": "execute_result"
    },
    {
     "data": {
      "image/png": "[encoded data removed]",
      "text/plain": [
       "<Figure size 432x288 with 1 Axes>"
      ]
     },
     "metadata": {
      "needs_background": "light"
     },
     "output_type": "display_data"
    }
   ],
   "source": [
    "# Create a DataFrame containing training history\n",
    "history_df = pd.DataFrame(fit_model.history, index=range(1,len(fit_model.history[\"loss\"])+1))\n",
    "\n",
    "# Plot the loss\n",
    "history_df.plot(y=\"loss\")"
   ]
  },
  {
   "cell_type": "code",
   "execution_count": 12,
   "metadata": {},
   "outputs": [
    {
     "data": {
      "text/plain": [
       "<matplotlib.axes._subplots.AxesSubplot at 0x7fb37b702190>"
      ]
     },
     "execution_count": 12,
     "metadata": {},
     "output_type": "execute_result"
    },
    {
     "data": {
      "image/png": "[encoded data removed]",
      "text/plain": [
       "<Figure size 432x288 with 1 Axes>"
      ]
     },
     "metadata": {
      "needs_background": "light"
     },
     "output_type": "display_data"
    }
   ],
   "source": [
    "# Plot the accuracy\n",
    "history_df.plot(y=\"accuracy\")"
   ]
  },
  {
   "cell_type": "code",
   "execution_count": 13,
   "metadata": {},
   "outputs": [
    {
     "name": "stdout",
     "output_type": "stream",
     "text": [
      "250/1 - 0s - loss: 0.0741 - accuracy: 1.0000\n",
      "Loss: 0.06585267210006714, Accuracy: 1.0\n"
     ]
    }
   ],
   "source": [
    "# Evaluate the model using the test data\n",
    "model_loss, model_accuracy = nn_model.evaluate(X_test_scaled,y_test,verbose=2)\n",
    "print(f\"Loss: {model_loss}, Accuracy: {model_accuracy}\")"
   ]
  },
  {
   "cell_type": "code",
   "execution_count": 14,
   "metadata": {},
   "outputs": [
    {
     "data": {
      "text/plain": [
       "array([[0],\n",
       "       [1],\n",
       "       [0],\n",
       "       [1],\n",
       "       [0],\n",
       "       [0],\n",
       "       [1],\n",
       "       [1],\n",
       "       [1],\n",
       "       [0]], dtype=int32)"
      ]
     },
     "execution_count": 14,
     "metadata": {},
     "output_type": "execute_result"
    }
   ],
   "source": [
    "# Predict the classification of a new set of blob data\n",
    "new_X, new_Y = make_blobs(n_samples=10, centers=2, n_features=2, random_state=78)\n",
    "new_X_scaled = X_scaler.transform(new_X)\n",
    "nn_model.predict_classes(new_X_scaled)"
   ]
  },
  {
   "cell_type": "code",
   "execution_count": 15,
   "metadata": {},
   "outputs": [
    {
     "data": {
      "text/plain": [
       "<matplotlib.axes._subplots.AxesSubplot at 0x7fb37c39b3d0>"
      ]
     },
     "execution_count": 15,
     "metadata": {},
     "output_type": "execute_result"
    },
    {
     "data": {
      "image/png": "[encoded data removed]",
      "text/plain": [
       "<Figure size 432x288 with 2 Axes>"
      ]
     },
     "metadata": {
      "needs_background": "light"
     },
     "output_type": "display_data"
    }
   ],
   "source": [
    "from sklearn.datasets import make_moons\n",
    "\n",
    "# Creating dummy nonlinear data\n",
    "X_moons, y_moons = make_moons(n_samples=1000, noise=0.08, random_state=78)\n",
    "\n",
    "# Transforming y_moons to a vertical vector\n",
    "y_moons = y_moons.reshape(-1, 1)\n",
    "\n",
    "# Creating a DataFrame to plot the nonlinear dummy data\n",
    "df_moons = pd.DataFrame(X_moons, columns=[\"Feature 1\", \"Feature 2\"])\n",
    "df_moons[\"Target\"] = y_moons\n",
    "\n",
    "# Plot the nonlinear dummy data\n",
    "df_moons.plot.scatter(x=\"Feature 1\",y=\"Feature 2\", c=\"Target\",colormap=\"winter\")"
   ]
  },
  {
   "cell_type": "code",
   "execution_count": 16,
   "metadata": {},
   "outputs": [],
   "source": [
    "# Create training and testing sets\n",
    "X_moon_train, X_moon_test, y_moon_train, y_moon_test = train_test_split(\n",
    "    X_moons, y_moons, random_state=78\n",
    ")\n",
    "\n",
    "# Create the scaler instance\n",
    "X_moon_scaler = skl.preprocessing.StandardScaler()\n",
    "\n",
    "# Fit the scaler\n",
    "X_moon_scaler.fit(X_moon_train)\n",
    "\n",
    "# Scale the data\n",
    "X_moon_train_scaled = X_moon_scaler.transform(X_moon_train)\n",
    "X_moon_test_scaled = X_moon_scaler.transform(X_moon_test)"
   ]
  },
  {
   "cell_type": "code",
   "execution_count": 17,
   "metadata": {},
   "outputs": [
    {
     "name": "stdout",
     "output_type": "stream",
     "text": [
      "Train on 750 samples\n",
      "Epoch 1/100\n",
      "750/750 [==============================] - 0s 177us/sample - loss: 0.7074 - accuracy: 0.6947\n",
      "Epoch 2/100\n",
      "750/750 [==============================] - 0s 86us/sample - loss: 0.6367 - accuracy: 0.7093\n",
      "Epoch 3/100\n",
      "750/750 [==============================] - 0s 86us/sample - loss: 0.5850 - accuracy: 0.7213\n",
      "Epoch 4/100\n",
      "750/750 [==============================] - 0s 89us/sample - loss: 0.5456 - accuracy: 0.7293\n",
      "Epoch 5/100\n",
      "750/750 [==============================] - 0s 86us/sample - loss: 0.5163 - accuracy: 0.7400\n",
      "Epoch 6/100\n",
      "750/750 [==============================] - 0s 86us/sample - loss: 0.4933 - accuracy: 0.7467\n",
      "Epoch 7/100\n",
      "750/750 [==============================] - 0s 91us/sample - loss: 0.4743 - accuracy: 0.7640\n",
      "Epoch 8/100\n",
      "750/750 [==============================] - 0s 99us/sample - loss: 0.4583 - accuracy: 0.7733\n",
      "Epoch 9/100\n",
      "750/750 [==============================] - 0s 97us/sample - loss: 0.4448 - accuracy: 0.7787\n",
      "Epoch 10/100\n",
      "750/750 [==============================] - 0s 98us/sample - loss: 0.4330 - accuracy: 0.7800\n",
      "Epoch 11/100\n",
      "750/750 [==============================] - 0s 91us/sample - loss: 0.4218 - accuracy: 0.7853\n",
      "Epoch 12/100\n",
      "750/750 [==============================] - 0s 93us/sample - loss: 0.4120 - accuracy: 0.7907\n",
      "Epoch 13/100\n",
      "750/750 [==============================] - 0s 94us/sample - loss: 0.4033 - accuracy: 0.7907\n",
      "Epoch 14/100\n",
      "750/750 [==============================] - 0s 95us/sample - loss: 0.3952 - accuracy: 0.7960\n",
      "Epoch 15/100\n",
      "750/750 [==============================] - 0s 86us/sample - loss: 0.3876 - accuracy: 0.8040\n",
      "Epoch 16/100\n",
      "750/750 [==============================] - 0s 91us/sample - loss: 0.3806 - accuracy: 0.8093\n",
      "Epoch 17/100\n",
      "750/750 [==============================] - 0s 95us/sample - loss: 0.3740 - accuracy: 0.8133\n",
      "Epoch 18/100\n",
      "750/750 [==============================] - 0s 91us/sample - loss: 0.3679 - accuracy: 0.8147\n",
      "Epoch 19/100\n",
      "750/750 [==============================] - 0s 91us/sample - loss: 0.3620 - accuracy: 0.8187\n",
      "Epoch 20/100\n",
      "750/750 [==============================] - 0s 86us/sample - loss: 0.3566 - accuracy: 0.8200\n",
      "Epoch 21/100\n",
      "750/750 [==============================] - 0s 86us/sample - loss: 0.3515 - accuracy: 0.8240\n",
      "Epoch 22/100\n",
      "750/750 [==============================] - 0s 85us/sample - loss: 0.3467 - accuracy: 0.8253\n",
      "Epoch 23/100\n",
      "750/750 [==============================] - 0s 92us/sample - loss: 0.3420 - accuracy: 0.8280\n",
      "Epoch 24/100\n",
      "750/750 [==============================] - 0s 91us/sample - loss: 0.3376 - accuracy: 0.8307\n",
      "Epoch 25/100\n",
      "750/750 [==============================] - 0s 97us/sample - loss: 0.3334 - accuracy: 0.8307\n",
      "Epoch 26/100\n",
      "750/750 [==============================] - 0s 99us/sample - loss: 0.3292 - accuracy: 0.8333\n",
      "Epoch 27/100\n",
      "750/750 [==============================] - 0s 105us/sample - loss: 0.3254 - accuracy: 0.8360\n",
      "Epoch 28/100\n",
      "750/750 [==============================] - 0s 98us/sample - loss: 0.3216 - accuracy: 0.8387\n",
      "Epoch 29/100\n",
      "750/750 [==============================] - 0s 99us/sample - loss: 0.3179 - accuracy: 0.8400\n",
      "Epoch 30/100\n",
      "750/750 [==============================] - 0s 91us/sample - loss: 0.3142 - accuracy: 0.8413\n",
      "Epoch 31/100\n",
      "750/750 [==============================] - 0s 96us/sample - loss: 0.3107 - accuracy: 0.8427\n",
      "Epoch 32/100\n",
      "750/750 [==============================] - 0s 97us/sample - loss: 0.3074 - accuracy: 0.8467\n",
      "Epoch 33/100\n",
      "750/750 [==============================] - 0s 134us/sample - loss: 0.3042 - accuracy: 0.8507\n",
      "Epoch 34/100\n",
      "750/750 [==============================] - 0s 132us/sample - loss: 0.3011 - accuracy: 0.8507\n",
      "Epoch 35/100\n",
      "750/750 [==============================] - 0s 118us/sample - loss: 0.2984 - accuracy: 0.8520\n",
      "Epoch 36/100\n",
      "750/750 [==============================] - 0s 106us/sample - loss: 0.2957 - accuracy: 0.8533\n",
      "Epoch 37/100\n",
      "750/750 [==============================] - 0s 116us/sample - loss: 0.2932 - accuracy: 0.8547\n",
      "Epoch 38/100\n",
      "750/750 [==============================] - 0s 117us/sample - loss: 0.2910 - accuracy: 0.8600\n",
      "Epoch 39/100\n",
      "750/750 [==============================] - 0s 117us/sample - loss: 0.2888 - accuracy: 0.8627\n",
      "Epoch 40/100\n",
      "750/750 [==============================] - 0s 115us/sample - loss: 0.2867 - accuracy: 0.8653\n",
      "Epoch 41/100\n",
      "750/750 [==============================] - 0s 118us/sample - loss: 0.2848 - accuracy: 0.8680\n",
      "Epoch 42/100\n",
      "750/750 [==============================] - 0s 118us/sample - loss: 0.2831 - accuracy: 0.8720\n",
      "Epoch 43/100\n",
      "750/750 [==============================] - 0s 108us/sample - loss: 0.2814 - accuracy: 0.8733\n",
      "Epoch 44/100\n",
      "750/750 [==============================] - 0s 102us/sample - loss: 0.2799 - accuracy: 0.8773\n",
      "Epoch 45/100\n",
      "750/750 [==============================] - 0s 115us/sample - loss: 0.2785 - accuracy: 0.8787\n",
      "Epoch 46/100\n",
      "750/750 [==============================] - 0s 129us/sample - loss: 0.2772 - accuracy: 0.8787\n",
      "Epoch 47/100\n",
      "750/750 [==============================] - 0s 130us/sample - loss: 0.2760 - accuracy: 0.8813\n",
      "Epoch 48/100\n",
      "750/750 [==============================] - 0s 131us/sample - loss: 0.2749 - accuracy: 0.8813\n",
      "Epoch 49/100\n",
      "750/750 [==============================] - 0s 126us/sample - loss: 0.2738 - accuracy: 0.8840\n",
      "Epoch 50/100\n",
      "750/750 [==============================] - 0s 101us/sample - loss: 0.2731 - accuracy: 0.8840\n",
      "Epoch 51/100\n",
      "750/750 [==============================] - 0s 95us/sample - loss: 0.2722 - accuracy: 0.8853\n",
      "Epoch 52/100\n",
      "750/750 [==============================] - 0s 110us/sample - loss: 0.2713 - accuracy: 0.8880\n",
      "Epoch 53/100\n",
      "750/750 [==============================] - 0s 124us/sample - loss: 0.2706 - accuracy: 0.8880\n",
      "Epoch 54/100\n",
      "750/750 [==============================] - 0s 124us/sample - loss: 0.2699 - accuracy: 0.8880\n",
      "Epoch 55/100\n",
      "750/750 [==============================] - 0s 91us/sample - loss: 0.2692 - accuracy: 0.8880\n",
      "Epoch 56/100\n",
      "750/750 [==============================] - 0s 84us/sample - loss: 0.2686 - accuracy: 0.8880\n",
      "Epoch 57/100\n",
      "750/750 [==============================] - 0s 85us/sample - loss: 0.2681 - accuracy: 0.8880\n",
      "Epoch 58/100\n",
      "750/750 [==============================] - 0s 85us/sample - loss: 0.2675 - accuracy: 0.8893\n",
      "Epoch 59/100\n",
      "750/750 [==============================] - 0s 91us/sample - loss: 0.2670 - accuracy: 0.8907\n",
      "Epoch 60/100\n",
      "750/750 [==============================] - 0s 88us/sample - loss: 0.2666 - accuracy: 0.8920\n",
      "Epoch 61/100\n",
      "750/750 [==============================] - 0s 89us/sample - loss: 0.2661 - accuracy: 0.8920\n",
      "Epoch 62/100\n",
      "750/750 [==============================] - 0s 99us/sample - loss: 0.2656 - accuracy: 0.8920\n",
      "Epoch 63/100\n",
      "750/750 [==============================] - 0s 109us/sample - loss: 0.2653 - accuracy: 0.8920\n",
      "Epoch 64/100\n",
      "750/750 [==============================] - 0s 109us/sample - loss: 0.2649 - accuracy: 0.8907\n",
      "Epoch 65/100\n",
      "750/750 [==============================] - 0s 100us/sample - loss: 0.2645 - accuracy: 0.8920\n",
      "Epoch 66/100\n",
      "750/750 [==============================] - 0s 102us/sample - loss: 0.2642 - accuracy: 0.8920\n",
      "Epoch 67/100\n",
      "750/750 [==============================] - 0s 90us/sample - loss: 0.2638 - accuracy: 0.8920\n",
      "Epoch 68/100\n",
      "750/750 [==============================] - 0s 84us/sample - loss: 0.2636 - accuracy: 0.8920\n",
      "Epoch 69/100\n",
      "750/750 [==============================] - 0s 90us/sample - loss: 0.2632 - accuracy: 0.8920\n",
      "Epoch 70/100\n",
      "750/750 [==============================] - 0s 90us/sample - loss: 0.2629 - accuracy: 0.8920\n",
      "Epoch 71/100\n",
      "750/750 [==============================] - 0s 91us/sample - loss: 0.2627 - accuracy: 0.8920\n",
      "Epoch 72/100\n",
      "750/750 [==============================] - 0s 86us/sample - loss: 0.2624 - accuracy: 0.8920\n",
      "Epoch 73/100\n",
      "750/750 [==============================] - 0s 90us/sample - loss: 0.2621 - accuracy: 0.8920\n",
      "Epoch 74/100\n",
      "750/750 [==============================] - 0s 84us/sample - loss: 0.2619 - accuracy: 0.8920\n",
      "Epoch 75/100\n",
      "750/750 [==============================] - 0s 89us/sample - loss: 0.2616 - accuracy: 0.8920\n",
      "Epoch 76/100\n",
      "750/750 [==============================] - 0s 86us/sample - loss: 0.2614 - accuracy: 0.8920\n",
      "Epoch 77/100\n",
      "750/750 [==============================] - 0s 87us/sample - loss: 0.2612 - accuracy: 0.8920\n",
      "Epoch 78/100\n"
     ]
    },
    {
     "name": "stdout",
     "output_type": "stream",
     "text": [
      "750/750 [==============================] - 0s 94us/sample - loss: 0.2610 - accuracy: 0.8920\n",
      "Epoch 79/100\n",
      "750/750 [==============================] - 0s 90us/sample - loss: 0.2609 - accuracy: 0.8920\n",
      "Epoch 80/100\n",
      "750/750 [==============================] - 0s 85us/sample - loss: 0.2606 - accuracy: 0.8920\n",
      "Epoch 81/100\n",
      "750/750 [==============================] - 0s 83us/sample - loss: 0.2604 - accuracy: 0.8920\n",
      "Epoch 82/100\n",
      "750/750 [==============================] - 0s 87us/sample - loss: 0.2601 - accuracy: 0.8920\n",
      "Epoch 83/100\n",
      "750/750 [==============================] - 0s 91us/sample - loss: 0.2599 - accuracy: 0.8920\n",
      "Epoch 84/100\n",
      "750/750 [==============================] - 0s 92us/sample - loss: 0.2598 - accuracy: 0.8920\n",
      "Epoch 85/100\n",
      "750/750 [==============================] - 0s 92us/sample - loss: 0.2596 - accuracy: 0.8920\n",
      "Epoch 86/100\n",
      "750/750 [==============================] - 0s 87us/sample - loss: 0.2594 - accuracy: 0.8920\n",
      "Epoch 87/100\n",
      "750/750 [==============================] - 0s 85us/sample - loss: 0.2592 - accuracy: 0.8920\n",
      "Epoch 88/100\n",
      "750/750 [==============================] - 0s 87us/sample - loss: 0.2590 - accuracy: 0.8920\n",
      "Epoch 89/100\n",
      "750/750 [==============================] - 0s 83us/sample - loss: 0.2589 - accuracy: 0.8920\n",
      "Epoch 90/100\n",
      "750/750 [==============================] - 0s 85us/sample - loss: 0.2587 - accuracy: 0.8920\n",
      "Epoch 91/100\n",
      "750/750 [==============================] - 0s 86us/sample - loss: 0.2585 - accuracy: 0.8920\n",
      "Epoch 92/100\n",
      "750/750 [==============================] - 0s 85us/sample - loss: 0.2584 - accuracy: 0.8920\n",
      "Epoch 93/100\n",
      "750/750 [==============================] - 0s 92us/sample - loss: 0.2582 - accuracy: 0.8907\n",
      "Epoch 94/100\n",
      "750/750 [==============================] - 0s 89us/sample - loss: 0.2581 - accuracy: 0.8907\n",
      "Epoch 95/100\n",
      "750/750 [==============================] - 0s 88us/sample - loss: 0.2579 - accuracy: 0.8907\n",
      "Epoch 96/100\n",
      "750/750 [==============================] - 0s 88us/sample - loss: 0.2578 - accuracy: 0.8907\n",
      "Epoch 97/100\n",
      "750/750 [==============================] - 0s 90us/sample - loss: 0.2576 - accuracy: 0.8907\n",
      "Epoch 98/100\n",
      "750/750 [==============================] - 0s 86us/sample - loss: 0.2575 - accuracy: 0.8907\n",
      "Epoch 99/100\n",
      "750/750 [==============================] - 0s 82us/sample - loss: 0.2575 - accuracy: 0.8907\n",
      "Epoch 100/100\n",
      "750/750 [==============================] - 0s 89us/sample - loss: 0.2572 - accuracy: 0.8907\n"
     ]
    }
   ],
   "source": [
    "# Training the model with the nonlinear data\n",
    "model_moon = nn_model.fit(X_moon_train_scaled, y_moon_train, epochs=100, shuffle=True)"
   ]
  },
  {
   "cell_type": "code",
   "execution_count": 18,
   "metadata": {},
   "outputs": [
    {
     "data": {
      "text/plain": [
       "<matplotlib.axes._subplots.AxesSubplot at 0x7fb37c530a50>"
      ]
     },
     "execution_count": 18,
     "metadata": {},
     "output_type": "execute_result"
    },
    {
     "data": {
      "image/png": "[encoded data removed]",
      "text/plain": [
       "<Figure size 432x288 with 1 Axes>"
      ]
     },
     "metadata": {
      "needs_background": "light"
     },
     "output_type": "display_data"
    }
   ],
   "source": [
    "# Create a DataFrame containing training history\n",
    "history_df = pd.DataFrame(model_moon.history, index=range(1,len(model_moon.history[\"loss\"])+1))\n",
    "\n",
    "# Plot the loss\n",
    "history_df.plot(y=\"loss\")"
   ]
  },
  {
   "cell_type": "code",
   "execution_count": 19,
   "metadata": {},
   "outputs": [
    {
     "data": {
      "text/plain": [
       "<matplotlib.axes._subplots.AxesSubplot at 0x7fb37c44de90>"
      ]
     },
     "execution_count": 19,
     "metadata": {},
     "output_type": "execute_result"
    },
    {
     "data": {
      "image/png": "[encoded data removed]",
      "text/plain": [
       "<Figure size 432x288 with 1 Axes>"
      ]
     },
     "metadata": {
      "needs_background": "light"
     },
     "output_type": "display_data"
    }
   ],
   "source": [
    "# Plot the loss\n",
    "history_df.plot(y=\"accuracy\")"
   ]
  },
  {
   "cell_type": "code",
   "execution_count": 20,
   "metadata": {},
   "outputs": [],
   "source": [
    "# Generate our new Sequential model\n",
    "new_model = tf.keras.models.Sequential()"
   ]
  },
  {
   "cell_type": "code",
   "execution_count": 21,
   "metadata": {},
   "outputs": [],
   "source": [
    "# Add the input and hidden layer\n",
    "number_inputs = 2\n",
    "number_hidden_nodes = 6\n",
    "\n",
    "new_model.add(tf.keras.layers.Dense(units=number_hidden_nodes, activation=\"relu\", input_dim=number_inputs))\n",
    "\n",
    "# Add the output layer that uses a probability activation function\n",
    "new_model.add(tf.keras.layers.Dense(units=1, activation=\"sigmoid\"))"
   ]
  },
  {
   "cell_type": "code",
   "execution_count": 22,
   "metadata": {},
   "outputs": [
    {
     "name": "stdout",
     "output_type": "stream",
     "text": [
      "Train on 750 samples\n",
      "Epoch 1/100\n",
      "750/750 [==============================] - 1s 1ms/sample - loss: 0.7492 - accuracy: 0.5853\n",
      "Epoch 2/100\n",
      "750/750 [==============================] - 0s 85us/sample - loss: 0.7058 - accuracy: 0.6000\n",
      "Epoch 3/100\n",
      "750/750 [==============================] - 0s 96us/sample - loss: 0.6696 - accuracy: 0.6080\n",
      "Epoch 4/100\n",
      "750/750 [==============================] - 0s 93us/sample - loss: 0.6383 - accuracy: 0.6187\n",
      "Epoch 5/100\n",
      "750/750 [==============================] - 0s 89us/sample - loss: 0.6117 - accuracy: 0.6320\n",
      "Epoch 6/100\n",
      "750/750 [==============================] - 0s 93us/sample - loss: 0.5881 - accuracy: 0.6413\n",
      "Epoch 7/100\n",
      "750/750 [==============================] - 0s 86us/sample - loss: 0.5675 - accuracy: 0.6547\n",
      "Epoch 8/100\n",
      "750/750 [==============================] - 0s 85us/sample - loss: 0.5493 - accuracy: 0.6653\n",
      "Epoch 9/100\n",
      "750/750 [==============================] - 0s 103us/sample - loss: 0.5329 - accuracy: 0.6800\n",
      "Epoch 10/100\n",
      "750/750 [==============================] - 0s 118us/sample - loss: 0.5183 - accuracy: 0.6933 - loss: 0.5103 - accuracy: 0.70\n",
      "Epoch 11/100\n",
      "750/750 [==============================] - 0s 129us/sample - loss: 0.5051 - accuracy: 0.7120\n",
      "Epoch 12/100\n",
      "750/750 [==============================] - 0s 119us/sample - loss: 0.4930 - accuracy: 0.7387\n",
      "Epoch 13/100\n",
      "750/750 [==============================] - 0s 117us/sample - loss: 0.4817 - accuracy: 0.7667\n",
      "Epoch 14/100\n",
      "750/750 [==============================] - 0s 113us/sample - loss: 0.4718 - accuracy: 0.7907\n",
      "Epoch 15/100\n",
      "750/750 [==============================] - 0s 111us/sample - loss: 0.4624 - accuracy: 0.8173\n",
      "Epoch 16/100\n",
      "750/750 [==============================] - 0s 104us/sample - loss: 0.4539 - accuracy: 0.8400\n",
      "Epoch 17/100\n",
      "750/750 [==============================] - 0s 120us/sample - loss: 0.4459 - accuracy: 0.8640\n",
      "Epoch 18/100\n",
      "750/750 [==============================] - 0s 113us/sample - loss: 0.4385 - accuracy: 0.8733\n",
      "Epoch 19/100\n",
      "750/750 [==============================] - 0s 137us/sample - loss: 0.4318 - accuracy: 0.8773\n",
      "Epoch 20/100\n",
      "750/750 [==============================] - 0s 120us/sample - loss: 0.4253 - accuracy: 0.8813\n",
      "Epoch 21/100\n",
      "750/750 [==============================] - 0s 112us/sample - loss: 0.4193 - accuracy: 0.8813\n",
      "Epoch 22/100\n",
      "750/750 [==============================] - 0s 83us/sample - loss: 0.4137 - accuracy: 0.8880\n",
      "Epoch 23/100\n",
      "750/750 [==============================] - 0s 91us/sample - loss: 0.4084 - accuracy: 0.8907\n",
      "Epoch 24/100\n",
      "750/750 [==============================] - 0s 85us/sample - loss: 0.4034 - accuracy: 0.8947\n",
      "Epoch 25/100\n",
      "750/750 [==============================] - 0s 92us/sample - loss: 0.3987 - accuracy: 0.8947\n",
      "Epoch 26/100\n",
      "750/750 [==============================] - 0s 87us/sample - loss: 0.3943 - accuracy: 0.8960\n",
      "Epoch 27/100\n",
      "750/750 [==============================] - 0s 96us/sample - loss: 0.3900 - accuracy: 0.8973\n",
      "Epoch 28/100\n",
      "750/750 [==============================] - 0s 114us/sample - loss: 0.3861 - accuracy: 0.8987\n",
      "Epoch 29/100\n",
      "750/750 [==============================] - 0s 113us/sample - loss: 0.3821 - accuracy: 0.9000\n",
      "Epoch 30/100\n",
      "750/750 [==============================] - 0s 103us/sample - loss: 0.3785 - accuracy: 0.9027\n",
      "Epoch 31/100\n",
      "750/750 [==============================] - 0s 83us/sample - loss: 0.3749 - accuracy: 0.9027\n",
      "Epoch 32/100\n",
      "750/750 [==============================] - 0s 83us/sample - loss: 0.3715 - accuracy: 0.9027\n",
      "Epoch 33/100\n",
      "750/750 [==============================] - 0s 201us/sample - loss: 0.3682 - accuracy: 0.9027\n",
      "Epoch 34/100\n",
      "750/750 [==============================] - 0s 122us/sample - loss: 0.3649 - accuracy: 0.9040\n",
      "Epoch 35/100\n",
      "750/750 [==============================] - 0s 99us/sample - loss: 0.3617 - accuracy: 0.9027\n",
      "Epoch 36/100\n",
      "750/750 [==============================] - 0s 91us/sample - loss: 0.3586 - accuracy: 0.9040\n",
      "Epoch 37/100\n",
      "750/750 [==============================] - 0s 87us/sample - loss: 0.3555 - accuracy: 0.9040\n",
      "Epoch 38/100\n",
      "750/750 [==============================] - 0s 85us/sample - loss: 0.3525 - accuracy: 0.9053\n",
      "Epoch 39/100\n",
      "750/750 [==============================] - 0s 89us/sample - loss: 0.3497 - accuracy: 0.9053\n",
      "Epoch 40/100\n",
      "750/750 [==============================] - 0s 94us/sample - loss: 0.3469 - accuracy: 0.9067\n",
      "Epoch 41/100\n",
      "750/750 [==============================] - 0s 90us/sample - loss: 0.3440 - accuracy: 0.9080\n",
      "Epoch 42/100\n",
      "750/750 [==============================] - 0s 91us/sample - loss: 0.3413 - accuracy: 0.9080\n",
      "Epoch 43/100\n",
      "750/750 [==============================] - 0s 90us/sample - loss: 0.3386 - accuracy: 0.9080\n",
      "Epoch 44/100\n",
      "750/750 [==============================] - 0s 85us/sample - loss: 0.3359 - accuracy: 0.9093\n",
      "Epoch 45/100\n",
      "750/750 [==============================] - 0s 86us/sample - loss: 0.3333 - accuracy: 0.9107\n",
      "Epoch 46/100\n",
      "750/750 [==============================] - 0s 84us/sample - loss: 0.3307 - accuracy: 0.9107\n",
      "Epoch 47/100\n",
      "750/750 [==============================] - 0s 90us/sample - loss: 0.3282 - accuracy: 0.9107\n",
      "Epoch 48/100\n",
      "750/750 [==============================] - 0s 92us/sample - loss: 0.3257 - accuracy: 0.9107\n",
      "Epoch 49/100\n",
      "750/750 [==============================] - 0s 88us/sample - loss: 0.3233 - accuracy: 0.9120\n",
      "Epoch 50/100\n",
      "750/750 [==============================] - 0s 88us/sample - loss: 0.3207 - accuracy: 0.9120\n",
      "Epoch 51/100\n",
      "750/750 [==============================] - 0s 106us/sample - loss: 0.3184 - accuracy: 0.9133\n",
      "Epoch 52/100\n",
      "750/750 [==============================] - 0s 121us/sample - loss: 0.3158 - accuracy: 0.9147\n",
      "Epoch 53/100\n",
      "750/750 [==============================] - 0s 94us/sample - loss: 0.3134 - accuracy: 0.9160\n",
      "Epoch 54/100\n",
      "750/750 [==============================] - 0s 91us/sample - loss: 0.3109 - accuracy: 0.9147\n",
      "Epoch 55/100\n",
      "750/750 [==============================] - 0s 90us/sample - loss: 0.3085 - accuracy: 0.9160\n",
      "Epoch 56/100\n",
      "750/750 [==============================] - 0s 88us/sample - loss: 0.3060 - accuracy: 0.9160\n",
      "Epoch 57/100\n",
      "750/750 [==============================] - 0s 94us/sample - loss: 0.3036 - accuracy: 0.9160\n",
      "Epoch 58/100\n",
      "750/750 [==============================] - 0s 92us/sample - loss: 0.3011 - accuracy: 0.9160\n",
      "Epoch 59/100\n",
      "750/750 [==============================] - 0s 93us/sample - loss: 0.2986 - accuracy: 0.9160\n",
      "Epoch 60/100\n",
      "750/750 [==============================] - 0s 109us/sample - loss: 0.2960 - accuracy: 0.9173\n",
      "Epoch 61/100\n",
      "750/750 [==============================] - 0s 107us/sample - loss: 0.2935 - accuracy: 0.9173\n",
      "Epoch 62/100\n",
      "750/750 [==============================] - 0s 94us/sample - loss: 0.2909 - accuracy: 0.9173\n",
      "Epoch 63/100\n",
      "750/750 [==============================] - 0s 99us/sample - loss: 0.2882 - accuracy: 0.9187\n",
      "Epoch 64/100\n",
      "750/750 [==============================] - 0s 125us/sample - loss: 0.2856 - accuracy: 0.9187\n",
      "Epoch 65/100\n",
      "750/750 [==============================] - 0s 104us/sample - loss: 0.2829 - accuracy: 0.9187\n",
      "Epoch 66/100\n",
      "750/750 [==============================] - 0s 111us/sample - loss: 0.2801 - accuracy: 0.9187\n",
      "Epoch 67/100\n",
      "750/750 [==============================] - 0s 130us/sample - loss: 0.2771 - accuracy: 0.9187\n",
      "Epoch 68/100\n",
      "750/750 [==============================] - 0s 205us/sample - loss: 0.2742 - accuracy: 0.9200\n",
      "Epoch 69/100\n",
      "750/750 [==============================] - 0s 128us/sample - loss: 0.2713 - accuracy: 0.9200\n",
      "Epoch 70/100\n",
      "750/750 [==============================] - 0s 113us/sample - loss: 0.2684 - accuracy: 0.9200\n",
      "Epoch 71/100\n",
      "750/750 [==============================] - 0s 101us/sample - loss: 0.2654 - accuracy: 0.9187\n",
      "Epoch 72/100\n",
      "750/750 [==============================] - 0s 109us/sample - loss: 0.2624 - accuracy: 0.9187\n",
      "Epoch 73/100\n",
      "750/750 [==============================] - 0s 112us/sample - loss: 0.2595 - accuracy: 0.9213\n",
      "Epoch 74/100\n",
      "750/750 [==============================] - 0s 142us/sample - loss: 0.2563 - accuracy: 0.9200\n",
      "Epoch 75/100\n",
      "750/750 [==============================] - 0s 119us/sample - loss: 0.2533 - accuracy: 0.9200\n",
      "Epoch 76/100\n",
      "750/750 [==============================] - 0s 119us/sample - loss: 0.2504 - accuracy: 0.9213\n",
      "Epoch 77/100\n",
      "750/750 [==============================] - 0s 135us/sample - loss: 0.2475 - accuracy: 0.9213\n",
      "Epoch 78/100\n"
     ]
    },
    {
     "name": "stdout",
     "output_type": "stream",
     "text": [
      "750/750 [==============================] - 0s 134us/sample - loss: 0.2445 - accuracy: 0.9227\n",
      "Epoch 79/100\n",
      "750/750 [==============================] - 0s 95us/sample - loss: 0.2418 - accuracy: 0.9240\n",
      "Epoch 80/100\n",
      "750/750 [==============================] - 0s 87us/sample - loss: 0.2390 - accuracy: 0.9253\n",
      "Epoch 81/100\n",
      "750/750 [==============================] - 0s 95us/sample - loss: 0.2363 - accuracy: 0.9240\n",
      "Epoch 82/100\n",
      "750/750 [==============================] - 0s 89us/sample - loss: 0.2337 - accuracy: 0.9240\n",
      "Epoch 83/100\n",
      "750/750 [==============================] - 0s 89us/sample - loss: 0.2312 - accuracy: 0.9253\n",
      "Epoch 84/100\n",
      "750/750 [==============================] - 0s 93us/sample - loss: 0.2287 - accuracy: 0.9267\n",
      "Epoch 85/100\n",
      "750/750 [==============================] - 0s 377us/sample - loss: 0.2264 - accuracy: 0.9253\n",
      "Epoch 86/100\n",
      "750/750 [==============================] - 0s 157us/sample - loss: 0.2241 - accuracy: 0.9253\n",
      "Epoch 87/100\n",
      "750/750 [==============================] - 0s 130us/sample - loss: 0.2219 - accuracy: 0.9253\n",
      "Epoch 88/100\n",
      "750/750 [==============================] - 0s 121us/sample - loss: 0.2198 - accuracy: 0.9253\n",
      "Epoch 89/100\n",
      "750/750 [==============================] - 0s 147us/sample - loss: 0.2181 - accuracy: 0.9267\n",
      "Epoch 90/100\n",
      "750/750 [==============================] - 0s 120us/sample - loss: 0.2158 - accuracy: 0.9267\n",
      "Epoch 91/100\n",
      "750/750 [==============================] - 0s 125us/sample - loss: 0.2139 - accuracy: 0.9280\n",
      "Epoch 92/100\n",
      "750/750 [==============================] - 0s 133us/sample - loss: 0.2122 - accuracy: 0.9267\n",
      "Epoch 93/100\n",
      "750/750 [==============================] - 0s 176us/sample - loss: 0.2104 - accuracy: 0.9267\n",
      "Epoch 94/100\n",
      "750/750 [==============================] - 0s 113us/sample - loss: 0.2087 - accuracy: 0.9307\n",
      "Epoch 95/100\n",
      "750/750 [==============================] - 0s 155us/sample - loss: 0.2071 - accuracy: 0.9307\n",
      "Epoch 96/100\n",
      "750/750 [==============================] - 0s 168us/sample - loss: 0.2055 - accuracy: 0.9307\n",
      "Epoch 97/100\n",
      "750/750 [==============================] - 0s 160us/sample - loss: 0.2039 - accuracy: 0.9333\n",
      "Epoch 98/100\n",
      "750/750 [==============================] - 0s 135us/sample - loss: 0.2024 - accuracy: 0.9333\n",
      "Epoch 99/100\n",
      "750/750 [==============================] - 0s 128us/sample - loss: 0.2010 - accuracy: 0.9333\n",
      "Epoch 100/100\n",
      "750/750 [==============================] - 0s 146us/sample - loss: 0.1995 - accuracy: 0.9347\n"
     ]
    }
   ],
   "source": [
    "# Compile the Sequential model together and customize metrics\n",
    "new_model.compile(loss=\"binary_crossentropy\", optimizer=\"adam\", metrics=[\"accuracy\"])\n",
    "\n",
    "# Fit the model to the training data\n",
    "new_fit_model = new_model.fit(X_moon_train_scaled, y_moon_train, epochs=100, shuffle=True)"
   ]
  },
  {
   "cell_type": "code",
   "execution_count": null,
   "metadata": {},
   "outputs": [],
   "source": []
  }
 ],
 "metadata": {
  "kernelspec": {
   "display_name": "PythonData",
   "language": "python",
   "name": "pythondata"
  },
  "language_info": {
   "codemirror_mode": {
    "name": "ipython",
    "version": 3
   },
   "file_extension": ".py",
   "mimetype": "text/x-python",
   "name": "python",
   "nbconvert_exporter": "python",
   "pygments_lexer": "ipython3",
   "version": "3.7.6"
  }
 },
 "nbformat": 4,
 "nbformat_minor": 4
}
